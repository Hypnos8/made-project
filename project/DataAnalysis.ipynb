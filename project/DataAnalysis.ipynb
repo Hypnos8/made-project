{
 "cells": [
  {
   "cell_type": "code",
   "id": "initial_id",
   "metadata": {
    "collapsed": true,
    "ExecuteTime": {
     "end_time": "2024-12-04T14:29:03.885195Z",
     "start_time": "2024-12-04T14:29:03.874193Z"
    }
   },
   "source": [
    "import pandas as pd\n",
    "import geopandas as gpd\n",
    "import sqlite3\n",
    "\n",
    "from pyogrio import geopandas\n"
   ],
   "outputs": [],
   "execution_count": 2
  },
  {
   "metadata": {},
   "cell_type": "code",
   "outputs": [],
   "execution_count": null,
   "source": [
    "cnx = sqlite3.connect('data/cleaned_db.sqlite')\n",
    "\n",
    "crime_data = pd.read_sql_query(\"Select * FROM crime_data\")\n",
    "la_data = pd.read_sql_query(\"Select * FROM la311_data\")\n",
    "\n",
    "# crime_\n",
    "zip_data = geopandas.read_file('data/zip_codes.shp')\n",
    "\n",
    "\n"
   ],
   "id": "387cfd1d4da84ae7"
  }
 ],
 "metadata": {
  "kernelspec": {
   "display_name": "Python 3",
   "language": "python",
   "name": "python3"
  },
  "language_info": {
   "codemirror_mode": {
    "name": "ipython",
    "version": 2
   },
   "file_extension": ".py",
   "mimetype": "text/x-python",
   "name": "python",
   "nbconvert_exporter": "python",
   "pygments_lexer": "ipython2",
   "version": "2.7.6"
  }
 },
 "nbformat": 4,
 "nbformat_minor": 5
}
